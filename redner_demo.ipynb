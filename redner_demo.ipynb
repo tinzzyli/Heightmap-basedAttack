{
  "cells": [
    {
      "cell_type": "markdown",
      "metadata": {
        "colab_type": "text",
        "id": "view-in-github"
      },
      "source": [
        "<a href=\"https://colab.research.google.com/github/BachiLi/redner/blob/master/tutorials/hello_redner.ipynb\" target=\"_parent\"><img src=\"https://colab.research.google.com/assets/colab-badge.svg\" alt=\"Open In Colab\"/></a>"
      ]
    },
    {
      "cell_type": "code",
      "execution_count": 986,
      "metadata": {},
      "outputs": [],
      "source": [
        "import os\n",
        "import glob\n",
        "import pyredner # pyredner will be the main Python module we import for redner.\n",
        "import torch # We also import PyTorch\n",
        "import urllib\n",
        "import zipfile\n",
        "import random\n",
        "import torchvision\n",
        "import math\n",
        "from typing import Optional, List"
      ]
    },
    {
      "attachments": {},
      "cell_type": "markdown",
      "metadata": {},
      "source": [
        "### def setPosition"
      ]
    },
    {
      "cell_type": "code",
      "execution_count": 1003,
      "metadata": {},
      "outputs": [],
      "source": [
        "def setPosition(objects: List[pyredner.Object] = None, \n",
        "                position: List[List[float]] = None,\n",
        "                set_random_pos: bool = True):\n",
        "    \"\"\"\n",
        "    Params:\n",
        "    =======\n",
        "    objects -> List[pyredner.Object]\n",
        "        set multiple objects' position\n",
        "\n",
        "    position -> List[List[float, float, float]]\n",
        "        the shift on x axis, y axis and z axis respectively\n",
        "    \n",
        "    Return:\n",
        "    newObjects -> List[pyredner.Object]\n",
        "    =======\n",
        "    \"\"\"\n",
        "    \n",
        "    newObjects = []\n",
        "\n",
        "    if objects is None:\n",
        "        raise ValueError(\"missing required parameter\")\n",
        "    \n",
        "    if set_random_pos:\n",
        "        for object in objects:\n",
        "            newObject = object\n",
        "            newObject.vertices += torch.tensor([\n",
        "                random.uniform(-0.9, 0.9), \n",
        "                random.uniform(-0.9, 0.9), \n",
        "                random.uniform(-0.9, 0.9)])\n",
        "            \n",
        "            newObjects.append(newObject)\n",
        "    else:\n",
        "        for idx, object in enumerate(objects):\n",
        "            newObject = object\n",
        "            d_x, d_y, d_z = position[idx]\n",
        "            newObject.vertices += torch.tensor([d_x, d_z, d_y])\n",
        "\n",
        "            newObjects.append(newObject)\n",
        "\n",
        "    return newObjects"
      ]
    },
    {
      "attachments": {},
      "cell_type": "markdown",
      "metadata": {},
      "source": [
        "### def setScale"
      ]
    },
    {
      "cell_type": "code",
      "execution_count": 988,
      "metadata": {},
      "outputs": [],
      "source": [
        "def setScale(objects: List[pyredner.Object] = None,\n",
        "             scales: List[float] = None,\n",
        "             set_random_scale: bool = True):\n",
        "    \"\"\"\n",
        "    Params:\n",
        "    =======\n",
        "    objects -> List[pyredner.Object]\n",
        "        set multiple objects' position\n",
        "    \n",
        "    scale -> float\n",
        "        default: 1.0\n",
        "\n",
        "    set_random_scale -> bool\n",
        "        default: True\n",
        "        \n",
        "    Return:\n",
        "    =======\n",
        "    newObjects -> List[pyredner.Object]\n",
        "    \"\"\"\n",
        "\n",
        "    newObjects = []\n",
        "\n",
        "    if objects is None:\n",
        "        raise ValueError(\"missing required parameter\")\n",
        "    \n",
        "    if set_random_scale:\n",
        "        for object in objects:\n",
        "            newObject = object\n",
        "            newObject.vertices *= random.uniform(0.5, 2.0)\n",
        "\n",
        "            newObjects.append(newObject)\n",
        "    else:\n",
        "        for idx, object in enumerate(objects):\n",
        "            newObject = object\n",
        "            scale = scales[idx]\n",
        "            newObject.vertices *= scale\n",
        "\n",
        "            newObjects.append(newObject)\n",
        "            \n",
        "    return newObjects\n"
      ]
    },
    {
      "attachments": {},
      "cell_type": "markdown",
      "metadata": {},
      "source": [
        "### def setRotation"
      ]
    },
    {
      "cell_type": "code",
      "execution_count": 989,
      "metadata": {},
      "outputs": [],
      "source": [
        "def get_X_RotMat(x_rot: float = 0.0, random_rotation = False):\n",
        "\n",
        "    if random_rotation:\n",
        "        x_rot = random.uniform(-1.0, 1.0)\n",
        "\n",
        "    #calculate sin and cos value for rotation matrices\n",
        "    x_sin = math.sin(math.pi*x_rot)\n",
        "    x_cos = math.cos(math.pi*x_rot)\n",
        "\n",
        "    x_rot_mat = torch.zeros([3,3])\n",
        "    x_rot_mat[1][1] = x_cos\n",
        "    x_rot_mat[0][0] = 1.0\n",
        "    x_rot_mat[2][2] = x_cos\n",
        "    x_rot_mat[1][2] = -x_sin\n",
        "    x_rot_mat[2][1] = x_sin\n",
        "\n",
        "    return x_rot_mat\n",
        "\n",
        "def get_Y_RotMat(y_rot: float = 0.0, random_rotation = False):  \n",
        "\n",
        "    if random_rotation:\n",
        "        y_rot = random.uniform(-1.0, 1.0)\n",
        "\n",
        "    y_sin = math.sin(math.pi*y_rot)\n",
        "    y_cos = math.cos(math.pi*y_rot)\n",
        "    #initialize x_rot, y_rot and z_rot matrix respectively\n",
        "    y_rot_mat = torch.zeros([3,3])\n",
        "    y_rot_mat[1][1] = 1.0\n",
        "    y_rot_mat[0][0] = y_cos\n",
        "    y_rot_mat[2][2] = y_cos\n",
        "    y_rot_mat[0][2] = y_sin\n",
        "    y_rot_mat[2][0] = -y_sin\n",
        "\n",
        "    return y_rot_mat\n",
        "\n",
        "def get_Z_RotMat(z_rot: float = 0.0, random_rotation = False):\n",
        "\n",
        "    if random_rotation:\n",
        "        z_rot = random.uniform(-1.0, 1.0)\n",
        "\n",
        "    z_sin = math.sin(math.pi*z_rot)\n",
        "    z_cos = math.cos(math.pi*z_rot)\n",
        "    \n",
        "    z_rot_mat = torch.zeros([3,3])\n",
        "    z_rot_mat[1][1] = z_cos\n",
        "    z_rot_mat[0][0] = z_cos\n",
        "    z_rot_mat[2][2] = 1.0\n",
        "    z_rot_mat[1][0] = z_sin\n",
        "    z_rot_mat[0][1] = -z_sin\n",
        "    \n",
        "    return z_rot_mat\n",
        "\n",
        "def setRotation(objects: List[pyredner.Object] = None,\n",
        "                rotation: List[List[float]] = None,\n",
        "                random_rotation: bool = True):\n",
        "    \"\"\"\n",
        "    Params:\n",
        "    =======\n",
        "    objects -> List[pyredner.Object]\n",
        "        set multiple objects' position\n",
        "    \n",
        "    x_rot, y_rot, z_rot -> List[ [x, y, z], [...], ...]\n",
        "        default: 0.0\n",
        "\n",
        "    x_random_rotation, y_random_rotation, z_random_rotation -> bool\n",
        "        default: True\n",
        "        when True, EACH object rotates randomly with different angle\n",
        "        \n",
        "    Return:\n",
        "    =======\n",
        "    newObjects -> List[pyredner.Object]\n",
        "    \"\"\"\n",
        "\n",
        "    newObjects = []\n",
        "\n",
        "    if objects is None:\n",
        "        raise ValueError(\"missing required parameter\")\n",
        "\n",
        "    if random_rotation:\n",
        "        for object in objects:\n",
        "            newObject = object\n",
        "            X_RotMat = get_X_RotMat(random_rotation)\n",
        "            Y_RotMat = get_Y_RotMat(random_rotation)\n",
        "            Z_RotMat = get_Z_RotMat(random_rotation)\n",
        "            \n",
        "            for idx,v in enumerate(newObject.vertices):\n",
        "                newObject.vertices[idx] = X_RotMat @ v\n",
        "\n",
        "            for idx,v in enumerate(newObject.vertices):\n",
        "                newObject.vertices[idx] = Y_RotMat @ v\n",
        "\n",
        "            for idx,v in enumerate(newObject.vertices):\n",
        "                newObject.vertices[idx] = Z_RotMat @ v\n",
        "                    \n",
        "            newObjects.append(newObject)\n",
        "    else:\n",
        "        for idx, object in enumerate(objects):\n",
        "            newObject = object\n",
        "            x_rot, y_rot, z_rot = rotation[idx]\n",
        "            \n",
        "            X_RotMat = get_X_RotMat(x_rot, random_rotation=False)\n",
        "            Y_RotMat = get_Y_RotMat(y_rot, random_rotation=False)\n",
        "            Z_RotMat = get_Z_RotMat(z_rot, random_rotation=False)\n",
        "\n",
        "            for idx,v in enumerate(newObject.vertices):\n",
        "                newObject.vertices[idx] = X_RotMat @ v\n",
        "\n",
        "            for idx,v in enumerate(newObject.vertices):\n",
        "                newObject.vertices[idx] = Y_RotMat @ v\n",
        "\n",
        "            for idx,v in enumerate(newObject.vertices):\n",
        "                newObject.vertices[idx] = Z_RotMat @ v\n",
        "                    \n",
        "            newObjects.append(newObject)\n",
        "\n",
        "    return newObjects\n"
      ]
    },
    {
      "cell_type": "code",
      "execution_count": 990,
      "metadata": {},
      "outputs": [],
      "source": [
        "ObjectList = []\n",
        "dir_path = glob.iglob(\"/BulletArm/bulletarm/pybullet/urdf/object/GraspNet1B_object/*/\")",
        "# use your own dir to an obj file or obj files, here we use GraspNet object from BulletArm, an open-source github project"
      ]
    },
    {
      "cell_type": "code",
      "execution_count": 991,
      "metadata": {},
      "outputs": [
        {
          "data": {
            "text/plain": [
              "86"
            ]
          },
          "execution_count": 991,
          "metadata": {},
          "output_type": "execute_result"
        }
      ],
      "source": [
        "\n",
        "for folder in dir_path:\n",
        "    files = os.listdir(folder)\n",
        "    for file in files:\n",
        "        if file.endswith(\".obj\"):\n",
        "            obj_dir = os.path.join(folder, 'convex.obj')\n",
        "            temp = pyredner.load_obj(obj_dir, return_objects=True)\n",
        "            ObjectList.append(temp[0])\n",
        "num_Object = len(ObjectList)\n",
        "num_Object"
      ]
    },
    {
      "cell_type": "code",
      "execution_count": 992,
      "metadata": {},
      "outputs": [],
      "source": [
        "newObjects = setPosition(ObjectList, set_random_pos=True)\n",
        "#newObjects = setScale(newObjects, set_random_scale=True)\n",
        "#newObjects = setRotation(newObjects, \n",
        "#                         x_rot=0.25, \n",
        "#                         y_rot=0.0, \n",
        "#                         z_rot=0.0, \n",
        "#                         set_random_rotation=False)\n",
        "\n"
      ]
    },
    {
      "cell_type": "code",
      "execution_count": 993,
      "metadata": {},
      "outputs": [],
      "source": [
        "newObjects = setRotation(ObjectList,\n",
        "                         x_random_rotation=False, \n",
        "                         y_random_rotation=True, \n",
        "                         z_random_rotation=False)"
      ]
    },
    {
      "cell_type": "code",
      "execution_count": 995,
      "metadata": {},
      "outputs": [
        {
          "name": "stdout",
          "output_type": "stream",
          "text": [
            "Scene construction, time: 0.01441 s\n",
            "Forward pass, time: 0.01277 s\n",
            "torch.Size([128, 128, 1])\n"
          ]
        },
        {
          "data": {
            "text/plain": [
              "<matplotlib.image.AxesImage at 0x7fbd7f13ef10>"
            ]
          },
          "execution_count": 995,
          "metadata": {},
          "output_type": "execute_result"
        },
        {
          "data": {
            "image/png": "[encoded data removed]",
            "text/plain": [
              "<Figure size 640x480 with 1 Axes>"
            ]
          },
          "metadata": {},
          "output_type": "display_data"
        }
      ],
      "source": [
        "camera = pyredner.Camera(position = torch.tensor([.0, 5.0, .0]),\n",
        "                      look_at = torch.tensor([0.0, 0.0, 0.0]),\n",
        "                      up = torch.tensor([0.0, 0.0, 1.0]),\n",
        "                      fov = torch.tensor([30.0]), # in degree\n",
        "                      clip_near = 1e-2, # needs to > 0\n",
        "                      resolution = (128, 128),\n",
        "                      )\n",
        "#camera = pyredner.automatic_camera_placement(objects, resolution=(512, 512))\n",
        "\n",
        "scene = pyredner.Scene(camera = camera, objects = newObjects)\n",
        "\n",
        "# objects is a list contains one or multiple pyredner.object\n",
        "chan_list = [pyredner.channels.depth]\n",
        "\n",
        "img = pyredner.render_generic(scene, chan_list)\n",
        "print(img.shape)\n",
        "# Visualize img\n",
        "from matplotlib.pyplot import imshow\n",
        "%matplotlib inline\n",
        "# Need to gamma compress the image for displaying.\n",
        "img = torch.pow(img, 2.5)\n",
        "imshow(img.cpu())"
      ]
    }
  ],
  "metadata": {
    "accelerator": "GPU",
    "colab": {
      "include_colab_link": true,
      "name": "hello_redner.ipynb",
      "provenance": []
    },
    "kernelspec": {
      "display_name": "bullet37",
      "language": "python",
      "name": "python3"
    },
    "language_info": {
      "codemirror_mode": {
        "name": "ipython",
        "version": 3
      },
      "file_extension": ".py",
      "mimetype": "text/x-python",
      "name": "python",
      "nbconvert_exporter": "python",
      "pygments_lexer": "ipython3",
      "version": "3.7.15"
    },
    "vscode": {
      "interpreter": {
        "hash": "256d2f8aa2bc1579d1e3c2d13d7a01ca72bfb833eb287453af22bbc377a06d4d"
      }
    }
  },
  "nbformat": 4,
  "nbformat_minor": 0
}
